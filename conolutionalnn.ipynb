{
 "cells": [
  {
   "cell_type": "code",
   "execution_count": 47,
   "metadata": {},
   "outputs": [],
   "source": [
    "import os\n",
    "import cv2\n",
    "import numpy as np      \n",
    "from tqdm import tqdm "
   ]
  },
  {
   "cell_type": "code",
   "execution_count": 48,
   "metadata": {},
   "outputs": [],
   "source": [
    "REBUILD_DATA=False\n",
    "#initially it was true, but we don't want to rebuild data again and again\n",
    "#so once we made training data then we set rebuild_data to false."
   ]
  },
  {
   "cell_type": "code",
   "execution_count": 49,
   "metadata": {},
   "outputs": [],
   "source": [
    "class DogsVsCats():\n",
    "    IMG_SIZE=50\n",
    "    CATS=\"kagglecatsanddogs_5340/PetImages/Cat/\"\n",
    "    DOGS=\"kagglecatsanddogs_5340/PetImages/Dog/\"\n",
    "    LABELS={CATS:0, DOGS:1}\n",
    "    training_data=[]\n",
    "    catcount=0\n",
    "    dogcount=0\n",
    "  \n",
    "    def make_training_data(self):\n",
    "        for label in self.LABELS:\n",
    "            print(label)\n",
    "            for f in tqdm(os.listdir(label)):\n",
    "                try:\n",
    "                    path=os.path.join(label, f)\n",
    "                    img=cv2.imread(path, cv2.IMREAD_GRAYSCALE)\n",
    "                    img=cv2.resize(img, (self.IMG_SIZE, self.IMG_SIZE))\n",
    "                    self.training_data.append([np.array(img), np.eye(2)[self.LABELS[label]]])\n",
    "                    \n",
    "                    if label==self.CATS:\n",
    "                        self.catcount+=1\n",
    "                    elif label==self.DOGS:\n",
    "                        self.dogcount+=1\n",
    "                except Exception as e:\n",
    "                    pass\n",
    "                    # print(str(e))\n",
    "    \n",
    "        np.random.shuffle(self.training_data)\n",
    "        images = np.array([i[0] for i in self.training_data]).reshape(-1, self.IMG_SIZE, self.IMG_SIZE, 1)\n",
    "        labels = np.array([i[1] for i in self.training_data])\n",
    "        print(\"CATS:\", self.catcount)\n",
    "        print(\"DOGS:\", self.dogcount)\n",
    "        \n",
    "        np.save(\"training_data_images.npy\", images)\n",
    "        np.save(\"training_data_labels.npy\", labels)\n",
    "    \n",
    "if REBUILD_DATA:\n",
    "    dogsvscats=DogsVsCats()\n",
    "    dogsvscats.make_training_data()\n"
   ]
  },
  {
   "cell_type": "code",
   "execution_count": 50,
   "metadata": {},
   "outputs": [
    {
     "name": "stdout",
     "output_type": "stream",
     "text": [
      "Images shape: (24946, 50, 50, 1)\n",
      "Labels shape: (24946, 2)\n"
     ]
    }
   ],
   "source": [
    "# Load the images and labels arrays from the saved .npy files\n",
    "train_images = np.load(\"training_data_images.npy\")\n",
    "train_labels = np.load(\"training_data_labels.npy\")\n",
    "\n",
    "# Now you can work with the loaded data as NumPy arrays\n",
    "print(\"Images shape:\", train_images.shape)\n",
    "print(\"Labels shape:\", train_labels.shape)\n"
   ]
  },
  {
   "cell_type": "markdown",
   "metadata": {},
   "source": [
    "*1 is for gray scale*,\n",
    "*2 is for hot encoded labels*,\n",
    "*24946 is number of images*"
   ]
  },
  {
   "cell_type": "code",
   "execution_count": 51,
   "metadata": {},
   "outputs": [
    {
     "data": {
      "text/plain": [
       "array([[[175],\n",
       "        [172],\n",
       "        [179],\n",
       "        ...,\n",
       "        [136],\n",
       "        [137],\n",
       "        [139]],\n",
       "\n",
       "       [[173],\n",
       "        [175],\n",
       "        [175],\n",
       "        ...,\n",
       "        [136],\n",
       "        [137],\n",
       "        [137]],\n",
       "\n",
       "       [[173],\n",
       "        [174],\n",
       "        [175],\n",
       "        ...,\n",
       "        [136],\n",
       "        [137],\n",
       "        [137]],\n",
       "\n",
       "       ...,\n",
       "\n",
       "       [[133],\n",
       "        [132],\n",
       "        [133],\n",
       "        ...,\n",
       "        [ 37],\n",
       "        [ 66],\n",
       "        [ 93]],\n",
       "\n",
       "       [[134],\n",
       "        [134],\n",
       "        [135],\n",
       "        ...,\n",
       "        [ 79],\n",
       "        [ 79],\n",
       "        [ 98]],\n",
       "\n",
       "       [[136],\n",
       "        [138],\n",
       "        [131],\n",
       "        ...,\n",
       "        [105],\n",
       "        [102],\n",
       "        [ 77]]], dtype=uint8)"
      ]
     },
     "execution_count": 51,
     "metadata": {},
     "output_type": "execute_result"
    }
   ],
   "source": [
    "train_images[0]"
   ]
  },
  {
   "cell_type": "code",
   "execution_count": 52,
   "metadata": {},
   "outputs": [
    {
     "data": {
      "image/png": "[encoded data removed]",
      "text/plain": [
       "<Figure size 640x480 with 1 Axes>"
      ]
     },
     "metadata": {},
     "output_type": "display_data"
    }
   ],
   "source": [
    "#above is gray scale values between 0 to 1\n",
    "\n",
    "import matplotlib.pyplot as plt    \n",
    "plt.imshow(train_images[0], cmap=\"gray\")\n",
    "plt.show()"
   ]
  },
  {
   "cell_type": "code",
   "execution_count": 53,
   "metadata": {},
   "outputs": [
    {
     "data": {
      "text/plain": [
       "array([1., 0.])"
      ]
     },
     "execution_count": 53,
     "metadata": {},
     "output_type": "execute_result"
    }
   ],
   "source": [
    "train_labels[0]"
   ]
  },
  {
   "cell_type": "markdown",
   "metadata": {},
   "source": [
    "array([0., 1.]) means dog and\n",
    "array([1., 0.]) means cat"
   ]
  },
  {
   "cell_type": "code",
   "execution_count": 54,
   "metadata": {},
   "outputs": [
    {
     "name": "stdout",
     "output_type": "stream",
     "text": [
      "24946\n",
      "24946\n"
     ]
    }
   ],
   "source": [
    "#running after setting rebuild_data=false\n",
    "train_images = np.load(\"training_data_images.npy\")\n",
    "train_labels = np.load(\"training_data_labels.npy\")\n",
    "\n",
    "print(len(train_images))\n",
    "print(len(train_labels))"
   ]
  },
  {
   "cell_type": "code",
   "execution_count": 63,
   "metadata": {},
   "outputs": [],
   "source": [
    "import torch\n",
    "import torch.nn as nn     \n",
    "import torch.nn.functional as F\n",
    "\n",
    "class Net(nn.Module):\n",
    "  def __init__(self):\n",
    "    super().__init__()\n",
    "    self.conv1=nn.Conv2d(1,32,5)\n",
    "    self.conv2=nn.Conv2d(32,64,5)\n",
    "    self.conv3=nn.Conv2d(64,128,5)\n",
    "    \n",
    "    x=torch.randn(50,50).view(-1,1,50,50)\n",
    "    self._to_linear=None\n",
    "    self.convs(x)    \n",
    "    \n",
    "    self.fc1=nn.Linear(self._to_linear,512)\n",
    "    self.fc2=nn.Linear(512,2)\n",
    "  \n",
    "  def convs(self,x):\n",
    "    x=F.max_pool2d(F.relu(self.conv1(x)),(2,2))\n",
    "    x=F.max_pool2d(F.relu(self.conv2(x)),(2,2))\n",
    "    x=F.max_pool2d(F.relu(self.conv3(x)),(2,2))\n",
    "    #print(x[0].shape)\n",
    "    if self._to_linear is None:\n",
    "      self._to_linear=x[0].shape[0]*x[0].shape[1]*x[0].shape[2]\n",
    "    return x\n",
    "  \n",
    "  def forward(self,x):\n",
    "    x=self.convs(x)\n",
    "    x=x.view(-1,self._to_linear)\n",
    "    x=F.relu(self.fc1(x))\n",
    "    x=self.fc2(x)\n",
    "    return F.softmax(x,dim=1)\n",
    "    \n",
    "net=Net()"
   ]
  },
  {
   "cell_type": "code",
   "execution_count": 64,
   "metadata": {},
   "outputs": [
    {
     "name": "stdout",
     "output_type": "stream",
     "text": [
      "2494\n"
     ]
    }
   ],
   "source": [
    "import torch.optim as optim   \n",
    "\n",
    "optimizer=optim.Adam(net.parameters(),lr=1e-3)\n",
    "loss_function=nn.MSELoss()\n",
    "\n",
    "X=torch.Tensor([i for i in train_images]).view(-1,50,50)\n",
    "X=X/255.0\n",
    "\n",
    "y=torch.Tensor([i for i in train_labels])\n",
    "\n",
    "val_pct=0.1 #test against 10% of dataset\n",
    "\n",
    "val_size=int(len(X)*val_pct)\n",
    "print(val_size)\n"
   ]
  },
  {
   "cell_type": "code",
   "execution_count": 65,
   "metadata": {},
   "outputs": [
    {
     "name": "stdout",
     "output_type": "stream",
     "text": [
      "22452\n",
      "2494\n"
     ]
    }
   ],
   "source": [
    "train_X=X[:-val_size]\n",
    "train_y=y[:-val_size]\n",
    "\n",
    "test_X=X[-val_size:]\n",
    "test_y=y[-val_size:]\n",
    "\n",
    "print(len(train_X))\n",
    "print(len(test_X))"
   ]
  },
  {
   "cell_type": "code",
   "execution_count": 99,
   "metadata": {},
   "outputs": [
    {
     "name": "stderr",
     "output_type": "stream",
     "text": [
      "100%|██████████| 225/225 [00:26<00:00,  8.47it/s]\n"
     ]
    }
   ],
   "source": [
    "BATCH_SIZE=100\n",
    "EPOCHS=1\n",
    "loss_values = []\n",
    "for epoch in range(EPOCHS):\n",
    "    for i in tqdm(range(0, len(train_X), BATCH_SIZE)):\n",
    "        batch_X = train_X[i:i + BATCH_SIZE].view(-1, 1, 50, 50)\n",
    "        batch_y = train_y[i:i + BATCH_SIZE]\n",
    "\n",
    "        net.zero_grad()\n",
    "        outputs = net(batch_X)\n",
    "        loss = loss_function(outputs, batch_y)\n",
    "        loss.backward()\n",
    "        optimizer.step()\n",
    "\n",
    "    loss_values.append(loss.item())\n",
    "  "
   ]
  },
  {
   "cell_type": "code",
   "execution_count": 100,
   "metadata": {},
   "outputs": [
    {
     "name": "stdout",
     "output_type": "stream",
     "text": [
      "Final Training Loss: 0.025855304673314095\n"
     ]
    }
   ],
   "source": [
    "print(f'Final Training Loss: {loss_values[-1]}')"
   ]
  },
  {
   "cell_type": "code",
   "execution_count": 88,
   "metadata": {},
   "outputs": [
    {
     "name": "stderr",
     "output_type": "stream",
     "text": [
      "100%|██████████| 22452/22452 [00:48<00:00, 465.69it/s]"
     ]
    },
    {
     "name": "stdout",
     "output_type": "stream",
     "text": [
      "0.913\n"
     ]
    },
    {
     "name": "stderr",
     "output_type": "stream",
     "text": [
      "\n"
     ]
    }
   ],
   "source": [
    "def test_model(model, X, y, name=\"Test Set\"):\n",
    "    correct = 0\n",
    "    total = 0\n",
    "    with torch.no_grad():\n",
    "        for i in tqdm(range(len(X))):\n",
    "            real_class = torch.argmax(y[i])\n",
    "            net_out = model(X[i].view(-1, 1, 50, 50))[0]\n",
    "            predicted_class = torch.argmax(net_out)\n",
    "\n",
    "            if predicted_class == real_class:\n",
    "                correct += 1\n",
    "            total += 1\n",
    "\n",
    "    accuracy = round(correct / total, 3)\n",
    "    print(accuracy)\n",
    "    return accuracy\n",
    "\n",
    "train_accuracy = test_model(net, train_X, train_y, name=\"Training Set\")"
   ]
  },
  {
   "cell_type": "code",
   "execution_count": 101,
   "metadata": {},
   "outputs": [
    {
     "data": {
      "image/png": "[encoded data removed]",
      "text/plain": [
       "<Figure size 640x480 with 1 Axes>"
      ]
     },
     "metadata": {},
     "output_type": "display_data"
    }
   ],
   "source": [
    "def plot_loss(loss_values):\n",
    "    plt.plot(range(len(loss_values)), loss_values, label='Training Loss')\n",
    "    plt.xlabel('Epochs')\n",
    "    plt.ylabel('Loss')\n",
    "    plt.legend()\n",
    "    plt.show()\n",
    "    \n",
    "plot_loss(loss_values)"
   ]
  },
  {
   "cell_type": "markdown",
   "metadata": {},
   "source": [
    "No curve because of single epoch"
   ]
  },
  {
   "cell_type": "markdown",
   "metadata": {},
   "source": [
    "**PREDICTING CAT OR DOG**"
   ]
  },
  {
   "cell_type": "code",
   "execution_count": 105,
   "metadata": {},
   "outputs": [
    {
     "name": "stdout",
     "output_type": "stream",
     "text": [
      "Model Predicted: Dog\n"
     ]
    }
   ],
   "source": [
    "# Function to preprocess a single external image\n",
    "def preprocess_external_image(image_path):\n",
    "    # Load the image\n",
    "    img = cv2.imread(image_path, cv2.IMREAD_GRAYSCALE)\n",
    "\n",
    "    # Resize the image to 50x50\n",
    "    img = cv2.resize(img, (50, 50))\n",
    "\n",
    "    # Convert the image to a NumPy array\n",
    "    img_array = np.array(img)\n",
    "\n",
    "    # Normalize the pixel values to be between 0 and 1\n",
    "    img_array = img_array / 255.0\n",
    "\n",
    "    # Convert the NumPy array to a PyTorch tensor\n",
    "    img_tensor = torch.Tensor(img_array).view(-1, 50, 50)\n",
    "\n",
    "    return img_tensor\n",
    "\n",
    "# Example usage:\n",
    "image_path = r\"C:\\Users\\shory\\Desktop\\ML\\dog1.jpg\"\n",
    "external_image_tensor = preprocess_external_image(image_path)\n",
    "\n",
    "# Make a prediction using the trained model\n",
    "with torch.no_grad():\n",
    "    prediction = net(external_image_tensor.view(-1, 1, 50, 50))[0]\n",
    "    predicted_class = torch.argmax(prediction).item()\n",
    "\n",
    "# Display the prediction\n",
    "if predicted_class == 0:\n",
    "    print(\"Model Predicted: Cat\")\n",
    "else:\n",
    "    print(\"Model Predicted: Dog\")\n"
   ]
  }
 ],
 "metadata": {
  "kernelspec": {
   "display_name": "myenv",
   "language": "python",
   "name": "python3"
  },
  "language_info": {
   "codemirror_mode": {
    "name": "ipython",
    "version": 3
   },
   "file_extension": ".py",
   "mimetype": "text/x-python",
   "name": "python",
   "nbconvert_exporter": "python",
   "pygments_lexer": "ipython3",
   "version": "3.8.18"
  }
 },
 "nbformat": 4,
 "nbformat_minor": 2
}
